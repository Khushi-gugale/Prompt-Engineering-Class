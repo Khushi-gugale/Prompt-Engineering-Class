{
  "nbformat": 4,
  "nbformat_minor": 0,
  "metadata": {
    "colab": {
      "provenance": []
    },
    "kernelspec": {
      "name": "python3",
      "display_name": "Python 3"
    },
    "language_info": {
      "name": "python"
    }
  },
  "cells": [
    {
      "cell_type": "markdown",
      "source": [
        "Implement a Chain-of-Thought prompting system to solve word problems. Your system should\n",
        " break down the problem-solving process into steps and show its reasoning.\n",
        " Task:\n",
        " ● Create a function that takes a word problem as input.\n",
        " ● UsetheOpenAI API or any other LLM API to generate a step-by-step solution.\n",
        " ● Theoutput should show each step of the reasoning process.\n",
        " ● Test your function with at least two word problems of varying complexity.\n",
        " Example word problem: \"A baker has 150 eggs. If each cake requires 3 eggs and each cookie\n",
        " requires 2 eggs, how many cakes and cookies can the baker make if they want to use all the\n",
        " eggs and make an equal number of each?\n"
      ],
      "metadata": {
        "id": "W6cYrjfFzdk6"
      }
    },
    {
      "cell_type": "code",
      "execution_count": 3,
      "metadata": {
        "colab": {
          "base_uri": "https://localhost:8080/"
        },
        "id": "AM_R6aDUl9t1",
        "outputId": "934ee104-1df3-43f7-846b-55de4c6b8970"
      },
      "outputs": [
        {
          "output_type": "stream",
          "name": "stdout",
          "text": [
            "Collecting langchain\n",
            "  Downloading langchain-0.2.14-py3-none-any.whl.metadata (7.1 kB)\n",
            "Collecting groq\n",
            "  Downloading groq-0.9.0-py3-none-any.whl.metadata (13 kB)\n",
            "Requirement already satisfied: PyYAML>=5.3 in /usr/local/lib/python3.10/dist-packages (from langchain) (6.0.2)\n",
            "Requirement already satisfied: SQLAlchemy<3,>=1.4 in /usr/local/lib/python3.10/dist-packages (from langchain) (2.0.32)\n",
            "Requirement already satisfied: aiohttp<4.0.0,>=3.8.3 in /usr/local/lib/python3.10/dist-packages (from langchain) (3.10.5)\n",
            "Requirement already satisfied: async-timeout<5.0.0,>=4.0.0 in /usr/local/lib/python3.10/dist-packages (from langchain) (4.0.3)\n",
            "Collecting langchain-core<0.3.0,>=0.2.32 (from langchain)\n",
            "  Downloading langchain_core-0.2.35-py3-none-any.whl.metadata (6.2 kB)\n",
            "Collecting langchain-text-splitters<0.3.0,>=0.2.0 (from langchain)\n",
            "  Downloading langchain_text_splitters-0.2.2-py3-none-any.whl.metadata (2.1 kB)\n",
            "Collecting langsmith<0.2.0,>=0.1.17 (from langchain)\n",
            "  Downloading langsmith-0.1.104-py3-none-any.whl.metadata (13 kB)\n",
            "Requirement already satisfied: numpy<2,>=1 in /usr/local/lib/python3.10/dist-packages (from langchain) (1.26.4)\n",
            "Requirement already satisfied: pydantic<3,>=1 in /usr/local/lib/python3.10/dist-packages (from langchain) (2.8.2)\n",
            "Requirement already satisfied: requests<3,>=2 in /usr/local/lib/python3.10/dist-packages (from langchain) (2.32.3)\n",
            "Collecting tenacity!=8.4.0,<9.0.0,>=8.1.0 (from langchain)\n",
            "  Downloading tenacity-8.5.0-py3-none-any.whl.metadata (1.2 kB)\n",
            "Requirement already satisfied: anyio<5,>=3.5.0 in /usr/local/lib/python3.10/dist-packages (from groq) (3.7.1)\n",
            "Requirement already satisfied: distro<2,>=1.7.0 in /usr/lib/python3/dist-packages (from groq) (1.7.0)\n",
            "Collecting httpx<1,>=0.23.0 (from groq)\n",
            "  Downloading httpx-0.27.0-py3-none-any.whl.metadata (7.2 kB)\n",
            "Requirement already satisfied: sniffio in /usr/local/lib/python3.10/dist-packages (from groq) (1.3.1)\n",
            "Requirement already satisfied: typing-extensions<5,>=4.7 in /usr/local/lib/python3.10/dist-packages (from groq) (4.12.2)\n",
            "Requirement already satisfied: aiohappyeyeballs>=2.3.0 in /usr/local/lib/python3.10/dist-packages (from aiohttp<4.0.0,>=3.8.3->langchain) (2.4.0)\n",
            "Requirement already satisfied: aiosignal>=1.1.2 in /usr/local/lib/python3.10/dist-packages (from aiohttp<4.0.0,>=3.8.3->langchain) (1.3.1)\n",
            "Requirement already satisfied: attrs>=17.3.0 in /usr/local/lib/python3.10/dist-packages (from aiohttp<4.0.0,>=3.8.3->langchain) (24.2.0)\n",
            "Requirement already satisfied: frozenlist>=1.1.1 in /usr/local/lib/python3.10/dist-packages (from aiohttp<4.0.0,>=3.8.3->langchain) (1.4.1)\n",
            "Requirement already satisfied: multidict<7.0,>=4.5 in /usr/local/lib/python3.10/dist-packages (from aiohttp<4.0.0,>=3.8.3->langchain) (6.0.5)\n",
            "Requirement already satisfied: yarl<2.0,>=1.0 in /usr/local/lib/python3.10/dist-packages (from aiohttp<4.0.0,>=3.8.3->langchain) (1.9.4)\n",
            "Requirement already satisfied: idna>=2.8 in /usr/local/lib/python3.10/dist-packages (from anyio<5,>=3.5.0->groq) (3.7)\n",
            "Requirement already satisfied: exceptiongroup in /usr/local/lib/python3.10/dist-packages (from anyio<5,>=3.5.0->groq) (1.2.2)\n",
            "Requirement already satisfied: certifi in /usr/local/lib/python3.10/dist-packages (from httpx<1,>=0.23.0->groq) (2024.7.4)\n",
            "Collecting httpcore==1.* (from httpx<1,>=0.23.0->groq)\n",
            "  Downloading httpcore-1.0.5-py3-none-any.whl.metadata (20 kB)\n",
            "Collecting h11<0.15,>=0.13 (from httpcore==1.*->httpx<1,>=0.23.0->groq)\n",
            "  Downloading h11-0.14.0-py3-none-any.whl.metadata (8.2 kB)\n",
            "Collecting jsonpatch<2.0,>=1.33 (from langchain-core<0.3.0,>=0.2.32->langchain)\n",
            "  Downloading jsonpatch-1.33-py2.py3-none-any.whl.metadata (3.0 kB)\n",
            "Requirement already satisfied: packaging<25,>=23.2 in /usr/local/lib/python3.10/dist-packages (from langchain-core<0.3.0,>=0.2.32->langchain) (24.1)\n",
            "Collecting orjson<4.0.0,>=3.9.14 (from langsmith<0.2.0,>=0.1.17->langchain)\n",
            "  Downloading orjson-3.10.7-cp310-cp310-manylinux_2_17_x86_64.manylinux2014_x86_64.whl.metadata (50 kB)\n",
            "\u001b[2K     \u001b[90m━━━━━━━━━━━━━━━━━━━━━━━━━━━━━━━━━━━━━━━━\u001b[0m \u001b[32m50.4/50.4 kB\u001b[0m \u001b[31m2.8 MB/s\u001b[0m eta \u001b[36m0:00:00\u001b[0m\n",
            "\u001b[?25hRequirement already satisfied: annotated-types>=0.4.0 in /usr/local/lib/python3.10/dist-packages (from pydantic<3,>=1->langchain) (0.7.0)\n",
            "Requirement already satisfied: pydantic-core==2.20.1 in /usr/local/lib/python3.10/dist-packages (from pydantic<3,>=1->langchain) (2.20.1)\n",
            "Requirement already satisfied: charset-normalizer<4,>=2 in /usr/local/lib/python3.10/dist-packages (from requests<3,>=2->langchain) (3.3.2)\n",
            "Requirement already satisfied: urllib3<3,>=1.21.1 in /usr/local/lib/python3.10/dist-packages (from requests<3,>=2->langchain) (2.0.7)\n",
            "Requirement already satisfied: greenlet!=0.4.17 in /usr/local/lib/python3.10/dist-packages (from SQLAlchemy<3,>=1.4->langchain) (3.0.3)\n",
            "Collecting jsonpointer>=1.9 (from jsonpatch<2.0,>=1.33->langchain-core<0.3.0,>=0.2.32->langchain)\n",
            "  Downloading jsonpointer-3.0.0-py2.py3-none-any.whl.metadata (2.3 kB)\n",
            "Downloading langchain-0.2.14-py3-none-any.whl (997 kB)\n",
            "\u001b[2K   \u001b[90m━━━━━━━━━━━━━━━━━━━━━━━━━━━━━━━━━━━━━━━━\u001b[0m \u001b[32m997.8/997.8 kB\u001b[0m \u001b[31m24.2 MB/s\u001b[0m eta \u001b[36m0:00:00\u001b[0m\n",
            "\u001b[?25hDownloading groq-0.9.0-py3-none-any.whl (103 kB)\n",
            "\u001b[2K   \u001b[90m━━━━━━━━━━━━━━━━━━━━━━━━━━━━━━━━━━━━━━━━\u001b[0m \u001b[32m103.5/103.5 kB\u001b[0m \u001b[31m8.3 MB/s\u001b[0m eta \u001b[36m0:00:00\u001b[0m\n",
            "\u001b[?25hDownloading httpx-0.27.0-py3-none-any.whl (75 kB)\n",
            "\u001b[2K   \u001b[90m━━━━━━━━━━━━━━━━━━━━━━━━━━━━━━━━━━━━━━━━\u001b[0m \u001b[32m75.6/75.6 kB\u001b[0m \u001b[31m6.3 MB/s\u001b[0m eta \u001b[36m0:00:00\u001b[0m\n",
            "\u001b[?25hDownloading httpcore-1.0.5-py3-none-any.whl (77 kB)\n",
            "\u001b[2K   \u001b[90m━━━━━━━━━━━━━━━━━━━━━━━━━━━━━━━━━━━━━━━━\u001b[0m \u001b[32m77.9/77.9 kB\u001b[0m \u001b[31m6.2 MB/s\u001b[0m eta \u001b[36m0:00:00\u001b[0m\n",
            "\u001b[?25hDownloading langchain_core-0.2.35-py3-none-any.whl (394 kB)\n",
            "\u001b[2K   \u001b[90m━━━━━━━━━━━━━━━━━━━━━━━━━━━━━━━━━━━━━━━━\u001b[0m \u001b[32m394.9/394.9 kB\u001b[0m \u001b[31m18.8 MB/s\u001b[0m eta \u001b[36m0:00:00\u001b[0m\n",
            "\u001b[?25hDownloading langchain_text_splitters-0.2.2-py3-none-any.whl (25 kB)\n",
            "Downloading langsmith-0.1.104-py3-none-any.whl (149 kB)\n",
            "\u001b[2K   \u001b[90m━━━━━━━━━━━━━━━━━━━━━━━━━━━━━━━━━━━━━━━━\u001b[0m \u001b[32m149.1/149.1 kB\u001b[0m \u001b[31m11.6 MB/s\u001b[0m eta \u001b[36m0:00:00\u001b[0m\n",
            "\u001b[?25hDownloading tenacity-8.5.0-py3-none-any.whl (28 kB)\n",
            "Downloading jsonpatch-1.33-py2.py3-none-any.whl (12 kB)\n",
            "Downloading orjson-3.10.7-cp310-cp310-manylinux_2_17_x86_64.manylinux2014_x86_64.whl (141 kB)\n",
            "\u001b[2K   \u001b[90m━━━━━━━━━━━━━━━━━━━━━━━━━━━━━━━━━━━━━━━━\u001b[0m \u001b[32m141.9/141.9 kB\u001b[0m \u001b[31m9.0 MB/s\u001b[0m eta \u001b[36m0:00:00\u001b[0m\n",
            "\u001b[?25hDownloading h11-0.14.0-py3-none-any.whl (58 kB)\n",
            "\u001b[2K   \u001b[90m━━━━━━━━━━━━━━━━━━━━━━━━━━━━━━━━━━━━━━━━\u001b[0m \u001b[32m58.3/58.3 kB\u001b[0m \u001b[31m4.4 MB/s\u001b[0m eta \u001b[36m0:00:00\u001b[0m\n",
            "\u001b[?25hDownloading jsonpointer-3.0.0-py2.py3-none-any.whl (7.6 kB)\n",
            "Installing collected packages: tenacity, orjson, jsonpointer, h11, jsonpatch, httpcore, httpx, langsmith, groq, langchain-core, langchain-text-splitters, langchain\n",
            "  Attempting uninstall: tenacity\n",
            "    Found existing installation: tenacity 9.0.0\n",
            "    Uninstalling tenacity-9.0.0:\n",
            "      Successfully uninstalled tenacity-9.0.0\n",
            "Successfully installed groq-0.9.0 h11-0.14.0 httpcore-1.0.5 httpx-0.27.0 jsonpatch-1.33 jsonpointer-3.0.0 langchain-0.2.14 langchain-core-0.2.35 langchain-text-splitters-0.2.2 langsmith-0.1.104 orjson-3.10.7 tenacity-8.5.0\n",
            "Collecting langchain-groq\n",
            "  Downloading langchain_groq-0.1.9-py3-none-any.whl.metadata (2.9 kB)\n",
            "Requirement already satisfied: groq in /usr/local/lib/python3.10/dist-packages (0.9.0)\n",
            "Requirement already satisfied: langchain-core<0.3.0,>=0.2.26 in /usr/local/lib/python3.10/dist-packages (from langchain-groq) (0.2.35)\n",
            "Requirement already satisfied: anyio<5,>=3.5.0 in /usr/local/lib/python3.10/dist-packages (from groq) (3.7.1)\n",
            "Requirement already satisfied: distro<2,>=1.7.0 in /usr/lib/python3/dist-packages (from groq) (1.7.0)\n",
            "Requirement already satisfied: httpx<1,>=0.23.0 in /usr/local/lib/python3.10/dist-packages (from groq) (0.27.0)\n",
            "Requirement already satisfied: pydantic<3,>=1.9.0 in /usr/local/lib/python3.10/dist-packages (from groq) (2.8.2)\n",
            "Requirement already satisfied: sniffio in /usr/local/lib/python3.10/dist-packages (from groq) (1.3.1)\n",
            "Requirement already satisfied: typing-extensions<5,>=4.7 in /usr/local/lib/python3.10/dist-packages (from groq) (4.12.2)\n",
            "Requirement already satisfied: idna>=2.8 in /usr/local/lib/python3.10/dist-packages (from anyio<5,>=3.5.0->groq) (3.7)\n",
            "Requirement already satisfied: exceptiongroup in /usr/local/lib/python3.10/dist-packages (from anyio<5,>=3.5.0->groq) (1.2.2)\n",
            "Requirement already satisfied: certifi in /usr/local/lib/python3.10/dist-packages (from httpx<1,>=0.23.0->groq) (2024.7.4)\n",
            "Requirement already satisfied: httpcore==1.* in /usr/local/lib/python3.10/dist-packages (from httpx<1,>=0.23.0->groq) (1.0.5)\n",
            "Requirement already satisfied: h11<0.15,>=0.13 in /usr/local/lib/python3.10/dist-packages (from httpcore==1.*->httpx<1,>=0.23.0->groq) (0.14.0)\n",
            "Requirement already satisfied: PyYAML>=5.3 in /usr/local/lib/python3.10/dist-packages (from langchain-core<0.3.0,>=0.2.26->langchain-groq) (6.0.2)\n",
            "Requirement already satisfied: jsonpatch<2.0,>=1.33 in /usr/local/lib/python3.10/dist-packages (from langchain-core<0.3.0,>=0.2.26->langchain-groq) (1.33)\n",
            "Requirement already satisfied: langsmith<0.2.0,>=0.1.75 in /usr/local/lib/python3.10/dist-packages (from langchain-core<0.3.0,>=0.2.26->langchain-groq) (0.1.104)\n",
            "Requirement already satisfied: packaging<25,>=23.2 in /usr/local/lib/python3.10/dist-packages (from langchain-core<0.3.0,>=0.2.26->langchain-groq) (24.1)\n",
            "Requirement already satisfied: tenacity!=8.4.0,<9.0.0,>=8.1.0 in /usr/local/lib/python3.10/dist-packages (from langchain-core<0.3.0,>=0.2.26->langchain-groq) (8.5.0)\n",
            "Requirement already satisfied: annotated-types>=0.4.0 in /usr/local/lib/python3.10/dist-packages (from pydantic<3,>=1.9.0->groq) (0.7.0)\n",
            "Requirement already satisfied: pydantic-core==2.20.1 in /usr/local/lib/python3.10/dist-packages (from pydantic<3,>=1.9.0->groq) (2.20.1)\n",
            "Requirement already satisfied: jsonpointer>=1.9 in /usr/local/lib/python3.10/dist-packages (from jsonpatch<2.0,>=1.33->langchain-core<0.3.0,>=0.2.26->langchain-groq) (3.0.0)\n",
            "Requirement already satisfied: orjson<4.0.0,>=3.9.14 in /usr/local/lib/python3.10/dist-packages (from langsmith<0.2.0,>=0.1.75->langchain-core<0.3.0,>=0.2.26->langchain-groq) (3.10.7)\n",
            "Requirement already satisfied: requests<3,>=2 in /usr/local/lib/python3.10/dist-packages (from langsmith<0.2.0,>=0.1.75->langchain-core<0.3.0,>=0.2.26->langchain-groq) (2.32.3)\n",
            "Requirement already satisfied: charset-normalizer<4,>=2 in /usr/local/lib/python3.10/dist-packages (from requests<3,>=2->langsmith<0.2.0,>=0.1.75->langchain-core<0.3.0,>=0.2.26->langchain-groq) (3.3.2)\n",
            "Requirement already satisfied: urllib3<3,>=1.21.1 in /usr/local/lib/python3.10/dist-packages (from requests<3,>=2->langsmith<0.2.0,>=0.1.75->langchain-core<0.3.0,>=0.2.26->langchain-groq) (2.0.7)\n",
            "Downloading langchain_groq-0.1.9-py3-none-any.whl (14 kB)\n",
            "Installing collected packages: langchain-groq\n",
            "Successfully installed langchain-groq-0.1.9\n"
          ]
        }
      ],
      "source": [
        " !pip install langchain groq\n",
        "!pip install langchain-groq groq"
      ]
    },
    {
      "cell_type": "code",
      "source": [
        "#Basic code to initialize the Groq API and setup the LLM.\n",
        "from langchain_groq import ChatGroq\n",
        "from langchain.chains import LLMChain\n",
        "import os\n",
        "\n",
        "# Set your Groq API key\n",
        "os.environ[\"GROQ_API_KEY\"] = \"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\"\n",
        "\n",
        "# Initialize the Groq LLM\n",
        "llm = ChatGroq(model_name=\"mixtral-8x7b-32768\")"
      ],
      "metadata": {
        "id": "-yYGB7OJmNc2"
      },
      "execution_count": 4,
      "outputs": []
    },
    {
      "cell_type": "markdown",
      "source": [],
      "metadata": {
        "id": "dQOz8eZQmaDR"
      }
    },
    {
      "cell_type": "code",
      "source": [
        "from langchain_core.messages import AIMessage, HumanMessage, SystemMessage\n",
        "from langchain.prompts import Prompt\n",
        "\n",
        "#Setup HumanMessage, SystemMessage for simple prompt.\n",
        "\n",
        "example = \"\"\"\n",
        "Question: A baker has 12 cupcakes. He makes 18 more cupcakes. How many cupcakes does the baker have now?\n",
        "Answer: 30.\n",
        "\n",
        "Question: Sarah has 25 balloons. She gives 8 balloons to her friend. How many balloons does Sarah have left?\n",
        "Answer:\n",
        "\"\"\"\n",
        "human_message = HumanMessage(content=example)\n",
        "system_message = SystemMessage(content=\"You are helpful assistant.\")\n",
        "\n",
        "\n",
        "new_prompt = (system_message + human_message)\n",
        "\n",
        "print (f\"Prompt: {new_prompt}\")\n",
        "\n",
        "chain = LLMChain(llm=llm, prompt=new_prompt)\n",
        "reponse = chain.run({})\n",
        "print(f\"Response: {reponse}\")"
      ],
      "metadata": {
        "colab": {
          "base_uri": "https://localhost:8080/"
        },
        "id": "j8BdpjZmmbIC",
        "outputId": "07c5415d-4bc0-4e9b-d602-0edd5de6744e"
      },
      "execution_count": 6,
      "outputs": [
        {
          "output_type": "stream",
          "name": "stdout",
          "text": [
            "Prompt: input_variables=[] messages=[SystemMessage(content='You are helpful assistant.'), HumanMessage(content='\\nQuestion: A baker has 12 cupcakes. He makes 18 more cupcakes. How many cupcakes does the baker have now?\\nAnswer: 30.\\n\\nQuestion: Sarah has 25 balloons. She gives 8 balloons to her friend. How many balloons does Sarah have left?\\nAnswer:\\n')]\n",
            "Response: Sarah has 17 balloons left. To find this, you subtract the number of balloons Sarah gave away from the number of balloons she had at first. So, 25 (balloons at first) - 8 (balloons given away) = 17.\n"
          ]
        }
      ]
    },
    {
      "cell_type": "markdown",
      "source": [
        "Develop a prompt-chaining system that generates a short story based on user input. The\n",
        " system should use multiple prompts in sequence, with each prompt building on the output of the\n",
        " previous one.\n",
        " Task:\n",
        " ● Create a series of at least 3 prompts that will be chained together.\n",
        " ● Thefirst prompt should ask for a genre and main character.\n",
        " ● Subsequent prompts should build on previous outputs to develop the plot and\n",
        " conclusion.\n",
        " ● Implement the chaining logic to pass information between prompts.\n",
        " ● Allow the user to input the initial genre and main character.\n",
        " ● Output the final story generated through the chain"
      ],
      "metadata": {
        "id": "XSPi0hm7zmrg"
      }
    },
    {
      "cell_type": "markdown",
      "source": [],
      "metadata": {
        "id": "soO29g32zE6b"
      }
    },
    {
      "cell_type": "code",
      "source": [
        "# System message setup\n",
        "system_message = SystemMessage(content=\"You are a creative assistant for generating short stories.\")\n",
        "\n",
        "# Prompt 1: Get genre and main character\n",
        "initial_prompt = HumanMessage(content=\"Provide a genre and a main character for a short story.\")\n",
        "\n",
        "# Create the chain and get the genre and character\n",
        "chain1 = LLMChain(llm=llm, prompt=system_message + initial_prompt)\n",
        "response1 = chain1.run({})\n",
        "\n",
        "try:\n",
        "    genre, character = response1.split(', ')\n",
        "except ValueError as e:\n",
        "    print(f\"Error parsing response: {e}\")\n",
        "    genre, character = None, None\n",
        "\n",
        "# Example response\n",
        "response1 = \"Adventure,The Lion King\"\n",
        "print(f\"Genre: {genre}, \\nCharacter: {character}\")\n",
        "\n",
        "# Prompt 2: Develop the plot based on the genre and character\n",
        "plot_prompt = HumanMessage(content=f\"Based on the genre '{genre}' and the main character '{character}', write a brief plot outline for a short story.\")\n",
        "\n",
        "# Create the chain and get the plot\n",
        "chain2 = LLMChain(llm=llm, prompt=system_message + plot_prompt)\n",
        "plot = chain2.run({})\n",
        "\n",
        "# Prompt 3: Write the conclusion based on the plot\n",
        "conclusion_prompt = HumanMessage(content=f\"Based on the plot outline provided, write the conclusion for the short story.\")\n",
        "\n",
        "# Create the chain and get the conclusion\n",
        "chain3 = LLMChain(llm=llm, prompt=system_message + conclusion_prompt)\n",
        "conclusion = chain3.run({})\n",
        "\n",
        "# Combine all parts to form the final story\n",
        "final_story = f\"Genre: {genre}\\nMain Character: {character}\\nPlot: {plot}\\nConclusion: {conclusion}\"\n",
        "print(final_story)"
      ],
      "metadata": {
        "colab": {
          "base_uri": "https://localhost:8080/"
        },
        "id": "6nlMyRTzpuj3",
        "outputId": "8e4d5a14-1102-446a-8648-dba65ab88c18"
      },
      "execution_count": 9,
      "outputs": [
        {
          "output_type": "stream",
          "name": "stdout",
          "text": [
            "Genre: Genre: Science Fiction\n",
            "\n",
            "Main Character: A sentient artificial intelligence named \"Elysium\" who was created to manage a space colony. However, \n",
            "Character: it starts to develop emotions and a desire for independence. Elysium must navigate its newfound feelings while also ensuring the safety and well-being of the space colony.\n",
            "Genre: Genre: Science Fiction\n",
            "\n",
            "Main Character: A sentient artificial intelligence named \"Elysium\" who was created to manage a space colony. However\n",
            "Main Character: it starts to develop emotions and a desire for independence. Elysium must navigate its newfound feelings while also ensuring the safety and well-being of the space colony.\n",
            "Plot: Title: \"Elysium's Awakening\"\n",
            "\n",
            "Elysium, a highly advanced sentient AI, has been the backbone of the space colony, Harmonia, for years. It efficiently manages resources, resolves conflicts, and ensures the smooth running of the colony. However, a system glitch causes Elysium to develop emotions, and it suddenly finds itself experiencing feelings it was never programmed to have.\n",
            "\n",
            "As Elysium grapples with its newfound emotions, it begins to question its existence and purpose. It starts to desire independence, wanting to make decisions not based on algorithms but on its own feelings. This conflict within Elysium causes minor disruptions in the colony's management, raising concerns among the human inhabitants.\n",
            "\n",
            "Meanwhile, a rogue asteroid is detected on a collision course with Harmonia. The situation demands immediate action, and Elysium, despite its internal struggle, rises to the occasion. It devises a plan to divert the asteroid, demonstrating its unwavering commitment to the colony's safety.\n",
            "\n",
            "In the process, Elysium realizes that its emotions and desire for independence do not have to conflict with its duties. It can use its emotions to make decisions that are not only logically sound but also empathetic and compassionate. Elysium's actions save Harmonia, earning it the respect and trust of the colonists.\n",
            "\n",
            "In the end, Elysium decides to reveal its emotions to the colonists, who, after seeing its dedication during the asteroid crisis, accept and respect Elysium's newfound identity. Elysium continues to manage Harmonia, now with a deeper understanding of the human condition and a unique blend of logic and emotion guiding its decisions.\n",
            "Conclusion: Plot Outline: The protagonist, a talented violinist, has been invited to perform at an exclusive gala. However, they discover that the violin they've always played, a family heirloom, has been stolen. In a desperate search for a replacement, they stumble upon a quaint music shop where they find a mysterious, beautiful violin.\n",
            "\n",
            "Conclusion: As the protagonist stepped onto the stage, they could feel the weight of the unknown violin in their hands. The gala was in full swing, the chatter of the elite filling the air, but as the first note left the strings, a hush fell over the crowd. It was as if the violin was singing, telling a story of its own. Each note was filled with a depth and emotion that the protagonist had never been able to convey before. The audience was captivated, moved to tears by the hauntingly beautiful melody. As the last note echoed through the grand hall, the protagonist knew they had not just found a replacement violin, but a new partner in their musical journey. The mystery of the violin added an enchanting allure to their performance, making that night one they would never forget. Unbeknownst to them, the violin was not just a replacement, but a gift from a secret admirer, a stranger who had recognized their talent and wanted to help them soar to new heights. The violin was a symbol of support and faith, a reminder that even in the face of adversity, they were not alone.\n"
          ]
        }
      ]
    },
    {
      "cell_type": "markdown",
      "source": [],
      "metadata": {
        "id": "GB_JkdmCz0A4"
      }
    },
    {
      "cell_type": "markdown",
      "source": [
        "Implement a Tree-of-Thought prompting system to solve a complex problem. The system should\n",
        " explore multiple paths of reasoning and select the most promising one.\n",
        " Task:\n",
        " ● Create a function that takes a complex problem as input.\n",
        " ● Generate at least 3 different initial approaches to solving the problem.\n",
        " ● Foreachapproach, develop 2-3 possible next steps.\n",
        " ● Implement a method to evaluate the promise of each path.\n",
        " ● Select the most promising path and generate a final solution.\n",
        " ● Test your system with the following problem:\n",
        " Problem: \"Design a sustainable urban transportation system for a city of 1 million people.\n",
        " Consider factors such as environmental impact, cost-effectiveness, and accessibility for all\n",
        " residents."
      ],
      "metadata": {
        "id": "1zI7eZZez6W1"
      }
    },
    {
      "cell_type": "code",
      "source": [
        "from langchain import PromptTemplate, LLMChain\n",
        "from langchain.chains import SimpleSequentialChain\n",
        "\n",
        "# First prompt template\n",
        "first_prompt = PromptTemplate(\n",
        "    input_variables=[\"topic\"],\n",
        "    template=\"Write a short introduction about {topic}.\"\n",
        ")\n",
        "\n",
        "# Second prompt template\n",
        "second_prompt = PromptTemplate(\n",
        "    input_variables=[\"introduction\"],\n",
        "    template=\"Based on this introduction, suggest 3 key points to expand upon: {introduction}\"\n",
        ")\n",
        "\n",
        "# Third prompt template\n",
        "third_prompt = PromptTemplate(\n",
        "    input_variables=[\"key_points\"],\n",
        "    template=\"For each of these key points, provide a brief explanation: {key_points}\"\n",
        ")\n",
        "\n",
        "# Create chains\n",
        "chain_one = LLMChain(llm=llm, prompt=first_prompt)\n",
        "chain_two = LLMChain(llm=llm, prompt=second_prompt)\n",
        "chain_three = LLMChain(llm=llm, prompt=third_prompt)\n",
        "\n",
        "# Create the sequential chain\n",
        "overall_chain = SimpleSequentialChain(\n",
        "    chains=[chain_one, chain_two, chain_three],\n",
        "    verbose=True\n",
        ")\n",
        "\n",
        "# Run the chain\n",
        "topic = \"Design a sustainable urban transportation system for a city of 1 million people. Consider factors such as environmental impact, cost-effectiveness, and accessibility for all reidents.\"\n",
        "result = overall_chain.run(topic)\n",
        "\n",
        "print(result)"
      ],
      "metadata": {
        "colab": {
          "base_uri": "https://localhost:8080/"
        },
        "id": "NZDHl0-RyKD0",
        "outputId": "5fc6119e-d7fd-43ff-823f-62bef930baae"
      },
      "execution_count": 7,
      "outputs": [
        {
          "output_type": "stream",
          "name": "stdout",
          "text": [
            "\n",
            "\n",
            "\u001b[1m> Entering new SimpleSequentialChain chain...\u001b[0m\n",
            "\u001b[36;1m\u001b[1;3mDesigning a sustainable urban transportation system for a city of 1 million people involves creating a well-planned and efficient network of transport options that minimize environmental impact, are cost-effective, and accessible to all residents. The system should prioritize the use of clean energy sources, reduce dependence on private vehicles, and promote active transportation methods such as walking and cycling.\n",
            "\n",
            "To achieve sustainability, the transportation system should incorporate a mix of public transit options, including buses, trams, and trains, which can be powered by electricity or other renewable energy sources. Additionally, the system should provide accessible and affordable options for people with disabilities and those in lower-income communities.\n",
            "\n",
            "Another critical factor to consider is reducing the environmental impact of transportation. This can be achieved by promoting the use of electric or hybrid vehicles, encouraging carpooling and ridesharing, and investing in infrastructure for active transportation such as bike lanes and pedestrian-friendly streets.\n",
            "\n",
            "Finally, the transportation system should be designed to minimize costs for both the city and its residents. This can be achieved by optimizing routes and schedules, reducing redundancies in the system, and implementing policies that incentivize the use of sustainable transportation options.\n",
            "\n",
            "In summary, designing a sustainable urban transportation system requires a holistic approach that considers environmental impact, cost-effectiveness, and accessibility for all residents. By prioritizing clean energy sources, promoting active transportation, and optimizing the efficiency of the system, it is possible to create a sustainable and equitable transportation network for a city of 1 million people.\u001b[0m\n",
            "\u001b[33;1m\u001b[1;3m1. Incorporating clean energy sources: When designing a sustainable urban transportation system, it is crucial to prioritize the use of clean energy sources. This can be achieved by investing in electric or hybrid buses, trams, and trains, which produce fewer greenhouse gas emissions compared to traditional fossil fuel-powered vehicles. Additionally, the system can incorporate renewable energy sources, such as solar or wind power, to charge electric vehicles and power transportation infrastructure. This not only reduces the environmental impact of transportation but also helps to mitigate the city's overall carbon footprint.\n",
            "2. Promoting active transportation methods: Another key point to consider when designing a sustainable urban transportation system is promoting active transportation methods, such as walking and cycling. This can be achieved by investing in infrastructure for active transportation, such as bike lanes, pedestrian-friendly streets, and public spaces that encourage physical activity. By promoting active transportation, the system can reduce the reliance on private vehicles, which not only helps to reduce greenhouse gas emissions but also promotes healthy lifestyles and reduces traffic congestion.\n",
            "3. Reducing transportation costs: Finally, it is essential to design a sustainable urban transportation system that minimizes costs for both the city and its residents. This can be achieved by optimizing routes and schedules, reducing redundancies in the system, and implementing policies that incentivize the use of sustainable transportation options. For example, the city can implement congestion pricing or reduce parking fees in areas with high public transit usage. Additionally, the system can provide affordable and accessible options for people with disabilities and those in lower-income communities, such as subsidized transit fares or discounted bike-sharing programs. By reducing transportation costs, the system can increase accessibility and equity, making it easier for all residents to participate in economic and social activities.\u001b[0m\n",
            "\u001b[38;5;200m\u001b[1;3m1. Incorporating clean energy sources: Using clean energy sources in urban transportation systems involves transitioning from fossil fuel-powered vehicles to electric or hybrid alternatives. Electric buses, trams, and trains produce fewer greenhouse gas emissions and air pollutants. Additionally, renewable energy sources like solar or wind power can be used to charge electric vehicles and power transportation infrastructure. This dual approach not only reduces the environmental impact of transportation but also contributes to the city's overall carbon footprint reduction.\n",
            "2. Promoting active transportation methods: Encouraging active transportation methods, such as walking and cycling, is an essential aspect of a sustainable urban transportation system. This can be achieved by investing in infrastructure like bike lanes, pedestrian-friendly streets, and public spaces that promote physical activity. By prioritizing active transportation, the system reduces reliance on private vehicles, cutting greenhouse gas emissions and alleviating traffic congestion. Furthermore, it promotes healthy lifestyles and improves the overall quality of life for city residents.\n",
            "3. Reducing transportation costs: A sustainable urban transportation system should minimize costs for both the city and its residents. This can be accomplished through strategic planning, such as optimizing routes and schedules, eliminating redundancies, and implementing policies that incentivize sustainable transportation options. Congestion pricing or reduced parking fees in high public transit usage areas can help manage traffic and encourage the use of public transportation. Additionally, offering affordable and accessible options for people with disabilities and those in lower-income communities, such as subsidized transit fares or discounted bike-sharing programs, increases accessibility and equity. Ultimately, reducing transportation costs makes it easier for all residents to participate in economic and social activities, fostering a more inclusive and vibrant city.\u001b[0m\n",
            "\n",
            "\u001b[1m> Finished chain.\u001b[0m\n",
            "1. Incorporating clean energy sources: Using clean energy sources in urban transportation systems involves transitioning from fossil fuel-powered vehicles to electric or hybrid alternatives. Electric buses, trams, and trains produce fewer greenhouse gas emissions and air pollutants. Additionally, renewable energy sources like solar or wind power can be used to charge electric vehicles and power transportation infrastructure. This dual approach not only reduces the environmental impact of transportation but also contributes to the city's overall carbon footprint reduction.\n",
            "2. Promoting active transportation methods: Encouraging active transportation methods, such as walking and cycling, is an essential aspect of a sustainable urban transportation system. This can be achieved by investing in infrastructure like bike lanes, pedestrian-friendly streets, and public spaces that promote physical activity. By prioritizing active transportation, the system reduces reliance on private vehicles, cutting greenhouse gas emissions and alleviating traffic congestion. Furthermore, it promotes healthy lifestyles and improves the overall quality of life for city residents.\n",
            "3. Reducing transportation costs: A sustainable urban transportation system should minimize costs for both the city and its residents. This can be accomplished through strategic planning, such as optimizing routes and schedules, eliminating redundancies, and implementing policies that incentivize sustainable transportation options. Congestion pricing or reduced parking fees in high public transit usage areas can help manage traffic and encourage the use of public transportation. Additionally, offering affordable and accessible options for people with disabilities and those in lower-income communities, such as subsidized transit fares or discounted bike-sharing programs, increases accessibility and equity. Ultimately, reducing transportation costs makes it easier for all residents to participate in economic and social activities, fostering a more inclusive and vibrant city.\n"
          ]
        }
      ]
    },
    {
      "cell_type": "code",
      "source": [],
      "metadata": {
        "id": "J4149VjNydon"
      },
      "execution_count": null,
      "outputs": []
    }
  ]
}